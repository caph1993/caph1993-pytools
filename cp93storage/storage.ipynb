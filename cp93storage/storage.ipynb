{
 "cells": [
  {
   "cell_type": "code",
   "execution_count": 11,
   "metadata": {},
   "outputs": [],
   "source": [
    "import diskdict\n",
    "from importlib import reload\n",
    "reload(diskdict)\n",
    "DiskDict = diskdict.DiskDict"
   ]
  },
  {
   "cell_type": "code",
   "execution_count": 14,
   "metadata": {},
   "outputs": [
    {
     "output_type": "stream",
     "name": "stdout",
     "text": [
      "[{'x': 3, 'y': 5, 'z': 5}, {'x': 1, 'y': 10, 'z': 10}]\n{'x': 0, 'y': 5}\n"
     ]
    }
   ],
   "source": [
    "d = DiskDict('aux.db')\n",
    "#d.add_index('x', 'integer')\n",
    "d['key0'] = {'x':0, 'y':5}\n",
    "d['key1'] = {'x':1, 'y':5}\n",
    "d['key2'] = {'x':2, 'y':5}\n",
    "#d.add_index('z', 'integer')\n",
    "d['key3'] = {'x':3, 'y':5, 'z':5}\n",
    "d['key1'] = {'x':1, 'y':10, 'z':10}\n",
    "print(list(d.where((('x', '>', 0), 'and', ('z', '>', 3)))))\n",
    "\n",
    "list(d.indexed_items())\n",
    "\n",
    "print(d['key0'])"
   ]
  },
  {
   "cell_type": "code",
   "execution_count": null,
   "metadata": {},
   "outputs": [],
   "source": []
  },
  {
   "cell_type": "code",
   "execution_count": 101,
   "metadata": {},
   "outputs": [
    {
     "name": "stdout",
     "output_type": "stream",
     "text": [
      "True\n",
      "{\"*\": \"set\", \"**\": []}\n",
      "\n"
     ]
    }
   ],
   "source": [
    "\n",
    "objs = [\n",
    "    set(),\n",
    "]\n",
    "\n",
    "for obj in objs:\n",
    "    r = JSON.parse(JSON.stringify(obj))\n",
    "    print(obj == r)\n",
    "    print(JSON.stringify(obj))\n",
    "    print()\n"
   ]
  },
  {
   "cell_type": "code",
   "execution_count": null,
   "metadata": {},
   "outputs": [],
   "source": []
  }
 ],
 "metadata": {
  "kernelspec": {
   "name": "python3",
   "display_name": "Python 3.8.5 64-bit"
  },
  "language_info": {
   "codemirror_mode": {
    "name": "ipython",
    "version": 3
   },
   "file_extension": ".py",
   "mimetype": "text/x-python",
   "name": "python",
   "nbconvert_exporter": "python",
   "pygments_lexer": "ipython3",
   "version": "3.8.5"
  },
  "interpreter": {
   "hash": "31f2aee4e71d21fbe5cf8b01ff0e069b9275f58929596ceb00d14d90e3e16cd6"
  }
 },
 "nbformat": 4,
 "nbformat_minor": 2
}